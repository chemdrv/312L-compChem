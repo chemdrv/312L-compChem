{
 "cells": [
  {
   "cell_type": "code",
   "execution_count": 1,
   "metadata": {},
   "outputs": [],
   "source": [
    "import psi4\n",
    "import matplotlib.pyplot as plt\n",
    "import numpy as np\n",
    "import pandas as pd\n",
    "import fortecubeview"
   ]
  },
  {
   "cell_type": "markdown",
   "metadata": {},
   "source": [
    "# Water: Learning how to use Psi4 and iterating over basis sets\n",
    "Alright first example. Calculate the minimized energy for water using a couple of basis sets. The first block sets up the input geometry for the molecule. "
   ]
  },
  {
   "cell_type": "code",
   "execution_count": 2,
   "metadata": {
    "scrolled": true
   },
   "outputs": [],
   "source": [
    "h2o = psi4.geometry(\"\"\"\n",
    "O\n",
    "H 1 0.96\n",
    "H 1 0.96 2 104.5\n",
    "\"\"\")"
   ]
  },
  {
   "cell_type": "markdown",
   "metadata": {},
   "source": [
    "Next, let's check out the initial conditions, then run an optimization and print the geometry and energy again. We need to tell Psi4 a theory and a basis set, which can be given by a string of the form `typeOfTheory/BasisSet`\n",
    "\n",
    " Exhaustive list of basis sets is here: https://psicode.org/psi4manual/master/basissets_tables.html#apdx-basistables\n",
    " List of modules is here: https://psicode.org/psi4manual/master/autodoc_options_c_bymodule.html#apdx-options-c-module"
   ]
  },
  {
   "cell_type": "code",
   "execution_count": 3,
   "metadata": {},
   "outputs": [
    {
     "name": "stdout",
     "output_type": "stream",
     "text": [
      "Initial geometry is\n",
      " [[ 0.          0.         -0.12429781]\n",
      " [ 0.         -1.43441927  0.98634825]\n",
      " [ 0.          1.43441927  0.98634825]]\n",
      "Initial energy is  -74.96340594386216\n",
      "Optimizer: Optimization complete!\n",
      "Final geometry is\n",
      " [[ 0.          0.         -0.13454743]\n",
      " [ 0.         -1.43235828  1.0676827 ]\n",
      " [ 0.          1.43235828  1.0676827 ]]\n",
      "Final energy is  -74.96599000640173\n"
     ]
    }
   ],
   "source": [
    "print(\"Initial geometry is\\n\", np.array(h2o.geometry()))\n",
    "print(\"Initial energy is \", psi4.energy('scf/STO-3g'))\n",
    "psi4.optimize('scf/STO-3g', molecule = h2o)\n",
    "print(\"Final geometry is\\n\", np.array(h2o.geometry()))\n",
    "print(\"Final energy is \", psi4.energy('scf/STO-3g'))"
   ]
  },
  {
   "cell_type": "markdown",
   "metadata": {},
   "source": [
    "There's a lot of information about the molecule folded in to the psi4 object. Here are a couple of examples. "
   ]
  },
  {
   "cell_type": "code",
   "execution_count": 18,
   "metadata": {},
   "outputs": [
    {
     "name": "stdout",
     "output_type": "stream",
     "text": [
      "Point group is  C2v\n",
      "y position of atom 2 is  1.432857772251163\n",
      "H-O bond length is  0.9894129791175227  Angstroms\n"
     ]
    }
   ],
   "source": [
    "print(\"Point group is \", h2o.get_full_point_group())\n",
    "print(\"y position of atom 2 is \", h2o.fy(2))\n",
    "h2o_geometry = np.array(h2o.geometry()) #grab the geometry and store it\n",
    "bond_length = np.linalg.norm(h2o_geometry[1,:]-h2o_geometry[0,:])*0.529177 #calculate the distance then convert from Bohr to Angstroms\n",
    "print(\"H-O bond length is \", bond_length, \" Angstroms\")"
   ]
  },
  {
   "cell_type": "markdown",
   "metadata": {},
   "source": [
    "Next, let's iterate over a couple of basis sets, to see how the energy changes with increasing complexity. In this case, I'm setting the basis set in one line as an option, then running the energy calculation with the selected theory.\n",
    "\n",
    "Psi4Education basis_sets lab has a lot more information about choosing a basis set, why we use gaussian basis sets, and what all the various types mean."
   ]
  },
  {
   "cell_type": "code",
   "execution_count": 19,
   "metadata": {},
   "outputs": [
    {
     "name": "stdout",
     "output_type": "stream",
     "text": [
      "STO-3G\n",
      "Energy is  -74.96599008714523\n",
      "Number of basis sets is  7\n",
      "3-21G\n",
      "Energy is  -75.58362842334307\n",
      "Number of basis sets is  13\n",
      "6-31G\n",
      "Energy is  -75.97974653727381\n",
      "Number of basis sets is  13\n",
      "cc-pvdz\n",
      "Energy is  -76.02310428323219\n",
      "Number of basis sets is  24\n"
     ]
    }
   ],
   "source": [
    "basis_sets = [\"STO-3G\", \"3-21G\", \"6-31G\", \"cc-pvdz\"]\n",
    "for basis_set in basis_sets: \n",
    "    print(basis_set)\n",
    "    psi4.set_options({'basis': basis_set})\n",
    "    result, wfn = psi4.energy('scf', return_wfn = True)\n",
    "    print(\"Energy is \", result)\n",
    "    print(\"Number of basis sets is \", wfn.basisset().nbf())"
   ]
  },
  {
   "cell_type": "markdown",
   "metadata": {},
   "source": [
    "# H2: Generating a PE diagram by iterating over geometry\n",
    "\n",
    "This is an example from the folks at Chem Compute, and it makes me so happy. We're gonna start by setting up an array of bond lengths. The resolution is higher at shorter bond lengths, so we start by making several small arrays at different resolutions and then stick them together."
   ]
  },
  {
   "cell_type": "code",
   "execution_count": 20,
   "metadata": {},
   "outputs": [
    {
     "name": "stdout",
     "output_type": "stream",
     "text": [
      "[0.2  0.22 0.24 0.26 0.28 0.3  0.32 0.34 0.36 0.38 0.4  0.42 0.44 0.46\n",
      " 0.48 0.5  0.52 0.54 0.56 0.58 0.6  0.62 0.64 0.66 0.68 0.7  0.72 0.74\n",
      " 0.76 0.78 0.8  0.82 0.84 0.86 0.88 0.9  0.92 0.94 0.96 0.98 1.   1.25\n",
      " 1.5  1.75 2.   2.25 2.5  2.75 3.   4.   5.   6.   7.   8.   9.  ]\n"
     ]
    }
   ],
   "source": [
    "short = np.arange(0.2,1.0,0.02)\n",
    "medium = np.arange(1.0,3.0,0.25)\n",
    "long = np.arange(3.0,10.0,1.0)\n",
    "\n",
    "Rvals = np.concatenate([short,medium,long])\n",
    "print (Rvals)"
   ]
  },
  {
   "cell_type": "markdown",
   "metadata": {},
   "source": [
    "Now that we've got the array of bond lengths, let's calculate the energy of an H2 molecule at each of those bond lengths. First, we set up a couple of arrays to hold things.\n",
    "\n",
    "Next, there's a nifty `for` loop that uses a new kind of string variables I just learned. It makes a set strings in the format of input files, with the bond length being each of the values in our bonnd length array. For each bond length, we calculate the energy, and collect the outputted bond length and energy in an array to hold on to.\n"
   ]
  },
  {
   "cell_type": "code",
   "execution_count": 21,
   "metadata": {},
   "outputs": [
    {
     "name": "stdout",
     "output_type": "stream",
     "text": [
      "0.2 0.16412595411337005\n",
      "0.22 -0.053077207700557016\n",
      "0.24 -0.2292559285483332\n",
      "0.26 -0.37387524173823816\n",
      "0.27999999999999997 -0.4937357845183453\n",
      "0.29999999999999993 -0.5938530072209464\n",
      "0.31999999999999995 -0.6780072547351106\n",
      "0.33999999999999997 -0.7491005851222121\n",
      "0.35999999999999993 -0.8093956866658003\n",
      "0.3799999999999999 -0.860680413644414\n",
      "0.3999999999999999 -0.9043839611955838\n",
      "0.41999999999999993 -0.9416607190272752\n",
      "0.4399999999999999 -0.973451967558839\n",
      "0.4599999999999999 -1.000532022593286\n",
      "0.47999999999999987 -1.0235432262695676\n",
      "0.49999999999999983 -1.0430227794889946\n",
      "0.5199999999999998 -1.0594235013753739\n",
      "0.5399999999999998 -1.0731299997950743\n",
      "0.5599999999999998 -1.0844713316497\n",
      "0.5799999999999998 -1.093730953263734\n",
      "0.5999999999999999 -1.1011545659749622\n",
      "0.6199999999999999 -1.1069563219781506\n",
      "0.6399999999999998 -1.1113237524575994\n",
      "0.6599999999999997 -1.1144217022973475\n",
      "0.6799999999999997 -1.1163954955110555\n",
      "0.6999999999999997 -1.1173735079951523\n",
      "0.7199999999999998 -1.1174692860182558\n",
      "0.7399999999999998 -1.116783317883077\n",
      "0.7599999999999998 -1.1154045410014102\n",
      "0.7799999999999998 -1.1134116462177004\n",
      "0.7999999999999996 -1.1108742248683443\n",
      "0.8199999999999996 -1.1078537911896316\n",
      "0.8399999999999996 -1.10440470278628\n",
      "0.8599999999999997 -1.10057499449239\n",
      "0.8799999999999997 -1.0964071356771092\n",
      "0.8999999999999997 -1.0919387174751956\n",
      "0.9199999999999997 -1.0872030741963168\n",
      "0.9399999999999997 -1.0822298419584846\n",
      "0.9599999999999995 -1.0770454571146202\n",
      "0.9799999999999995 -1.0716735970513052\n",
      "1.0 -1.066135566237009\n",
      "1.25 -0.9891607220515062\n",
      "1.5 -0.9109520428635619\n",
      "1.75 -0.8414463817853902\n",
      "2.0 -0.783905232033294\n",
      "2.25 -0.738295826397331\n",
      "2.5 -0.7030825049818015\n",
      "2.75 -0.6763187815427474\n",
      "3.0 -0.6561980310453079\n",
      "4.0 -0.6150178748517781\n",
      "5.0 -0.5991720786991049\n",
      "6.0 -0.5901186057957752\n",
      "7.0 -0.5838066261745709\n",
      "8.0 -0.5790814860394908\n",
      "9.0 -0.5754066368732477\n"
     ]
    }
   ],
   "source": [
    "arrayForBondLengths = []\n",
    "arrayForEnergies = []\n",
    "\n",
    "for R in Rvals:\n",
    "    geometry = f\"\"\"\n",
    "    H 0 0 0\n",
    "    H 0 0 {R}\n",
    "    \"\"\"\n",
    "    \n",
    "    h2 = psi4.geometry(geometry)\n",
    "    E = psi4.energy('scf/sto-3g',molecule=h2)\n",
    "    arrayForBondLengths.append(R)\n",
    "    arrayForEnergies.append(E)\n",
    "    print (R,E)\n"
   ]
  },
  {
   "cell_type": "markdown",
   "metadata": {},
   "source": [
    "\n",
    "This output is ugly and confusing to read. Let's plot it instead!"
   ]
  },
  {
   "cell_type": "code",
   "execution_count": 22,
   "metadata": {
    "scrolled": true
   },
   "outputs": [
    {
     "data": {
      "application/javascript": [
       "/* Put everything inside the global mpl namespace */\n",
       "/* global mpl */\n",
       "window.mpl = {};\n",
       "\n",
       "mpl.get_websocket_type = function () {\n",
       "    if (typeof WebSocket !== 'undefined') {\n",
       "        return WebSocket;\n",
       "    } else if (typeof MozWebSocket !== 'undefined') {\n",
       "        return MozWebSocket;\n",
       "    } else {\n",
       "        alert(\n",
       "            'Your browser does not have WebSocket support. ' +\n",
       "                'Please try Chrome, Safari or Firefox ≥ 6. ' +\n",
       "                'Firefox 4 and 5 are also supported but you ' +\n",
       "                'have to enable WebSockets in about:config.'\n",
       "        );\n",
       "    }\n",
       "};\n",
       "\n",
       "mpl.figure = function (figure_id, websocket, ondownload, parent_element) {\n",
       "    this.id = figure_id;\n",
       "\n",
       "    this.ws = websocket;\n",
       "\n",
       "    this.supports_binary = this.ws.binaryType !== undefined;\n",
       "\n",
       "    if (!this.supports_binary) {\n",
       "        var warnings = document.getElementById('mpl-warnings');\n",
       "        if (warnings) {\n",
       "            warnings.style.display = 'block';\n",
       "            warnings.textContent =\n",
       "                'This browser does not support binary websocket messages. ' +\n",
       "                'Performance may be slow.';\n",
       "        }\n",
       "    }\n",
       "\n",
       "    this.imageObj = new Image();\n",
       "\n",
       "    this.context = undefined;\n",
       "    this.message = undefined;\n",
       "    this.canvas = undefined;\n",
       "    this.rubberband_canvas = undefined;\n",
       "    this.rubberband_context = undefined;\n",
       "    this.format_dropdown = undefined;\n",
       "\n",
       "    this.image_mode = 'full';\n",
       "\n",
       "    this.root = document.createElement('div');\n",
       "    this.root.setAttribute('style', 'display: inline-block');\n",
       "    this._root_extra_style(this.root);\n",
       "\n",
       "    parent_element.appendChild(this.root);\n",
       "\n",
       "    this._init_header(this);\n",
       "    this._init_canvas(this);\n",
       "    this._init_toolbar(this);\n",
       "\n",
       "    var fig = this;\n",
       "\n",
       "    this.waiting = false;\n",
       "\n",
       "    this.ws.onopen = function () {\n",
       "        fig.send_message('supports_binary', { value: fig.supports_binary });\n",
       "        fig.send_message('send_image_mode', {});\n",
       "        if (fig.ratio !== 1) {\n",
       "            fig.send_message('set_dpi_ratio', { dpi_ratio: fig.ratio });\n",
       "        }\n",
       "        fig.send_message('refresh', {});\n",
       "    };\n",
       "\n",
       "    this.imageObj.onload = function () {\n",
       "        if (fig.image_mode === 'full') {\n",
       "            // Full images could contain transparency (where diff images\n",
       "            // almost always do), so we need to clear the canvas so that\n",
       "            // there is no ghosting.\n",
       "            fig.context.clearRect(0, 0, fig.canvas.width, fig.canvas.height);\n",
       "        }\n",
       "        fig.context.drawImage(fig.imageObj, 0, 0);\n",
       "    };\n",
       "\n",
       "    this.imageObj.onunload = function () {\n",
       "        fig.ws.close();\n",
       "    };\n",
       "\n",
       "    this.ws.onmessage = this._make_on_message_function(this);\n",
       "\n",
       "    this.ondownload = ondownload;\n",
       "};\n",
       "\n",
       "mpl.figure.prototype._init_header = function () {\n",
       "    var titlebar = document.createElement('div');\n",
       "    titlebar.classList =\n",
       "        'ui-dialog-titlebar ui-widget-header ui-corner-all ui-helper-clearfix';\n",
       "    var titletext = document.createElement('div');\n",
       "    titletext.classList = 'ui-dialog-title';\n",
       "    titletext.setAttribute(\n",
       "        'style',\n",
       "        'width: 100%; text-align: center; padding: 3px;'\n",
       "    );\n",
       "    titlebar.appendChild(titletext);\n",
       "    this.root.appendChild(titlebar);\n",
       "    this.header = titletext;\n",
       "};\n",
       "\n",
       "mpl.figure.prototype._canvas_extra_style = function (_canvas_div) {};\n",
       "\n",
       "mpl.figure.prototype._root_extra_style = function (_canvas_div) {};\n",
       "\n",
       "mpl.figure.prototype._init_canvas = function () {\n",
       "    var fig = this;\n",
       "\n",
       "    var canvas_div = (this.canvas_div = document.createElement('div'));\n",
       "    canvas_div.setAttribute(\n",
       "        'style',\n",
       "        'border: 1px solid #ddd;' +\n",
       "            'box-sizing: content-box;' +\n",
       "            'clear: both;' +\n",
       "            'min-height: 1px;' +\n",
       "            'min-width: 1px;' +\n",
       "            'outline: 0;' +\n",
       "            'overflow: hidden;' +\n",
       "            'position: relative;' +\n",
       "            'resize: both;'\n",
       "    );\n",
       "\n",
       "    function on_keyboard_event_closure(name) {\n",
       "        return function (event) {\n",
       "            return fig.key_event(event, name);\n",
       "        };\n",
       "    }\n",
       "\n",
       "    canvas_div.addEventListener(\n",
       "        'keydown',\n",
       "        on_keyboard_event_closure('key_press')\n",
       "    );\n",
       "    canvas_div.addEventListener(\n",
       "        'keyup',\n",
       "        on_keyboard_event_closure('key_release')\n",
       "    );\n",
       "\n",
       "    this._canvas_extra_style(canvas_div);\n",
       "    this.root.appendChild(canvas_div);\n",
       "\n",
       "    var canvas = (this.canvas = document.createElement('canvas'));\n",
       "    canvas.classList.add('mpl-canvas');\n",
       "    canvas.setAttribute('style', 'box-sizing: content-box;');\n",
       "\n",
       "    this.context = canvas.getContext('2d');\n",
       "\n",
       "    var backingStore =\n",
       "        this.context.backingStorePixelRatio ||\n",
       "        this.context.webkitBackingStorePixelRatio ||\n",
       "        this.context.mozBackingStorePixelRatio ||\n",
       "        this.context.msBackingStorePixelRatio ||\n",
       "        this.context.oBackingStorePixelRatio ||\n",
       "        this.context.backingStorePixelRatio ||\n",
       "        1;\n",
       "\n",
       "    this.ratio = (window.devicePixelRatio || 1) / backingStore;\n",
       "    if (this.ratio !== 1) {\n",
       "        fig.send_message('set_dpi_ratio', { dpi_ratio: this.ratio });\n",
       "    }\n",
       "\n",
       "    var rubberband_canvas = (this.rubberband_canvas = document.createElement(\n",
       "        'canvas'\n",
       "    ));\n",
       "    rubberband_canvas.setAttribute(\n",
       "        'style',\n",
       "        'box-sizing: content-box; position: absolute; left: 0; top: 0; z-index: 1;'\n",
       "    );\n",
       "\n",
       "    // Apply a ponyfill if ResizeObserver is not implemented by browser.\n",
       "    if (this.ResizeObserver === undefined) {\n",
       "        if (window.ResizeObserver !== undefined) {\n",
       "            this.ResizeObserver = window.ResizeObserver;\n",
       "        } else {\n",
       "            var obs = _JSXTOOLS_RESIZE_OBSERVER({});\n",
       "            this.ResizeObserver = obs.ResizeObserver;\n",
       "        }\n",
       "    }\n",
       "\n",
       "    this.resizeObserverInstance = new this.ResizeObserver(function (entries) {\n",
       "        var nentries = entries.length;\n",
       "        for (var i = 0; i < nentries; i++) {\n",
       "            var entry = entries[i];\n",
       "            var width, height;\n",
       "            if (entry.contentBoxSize) {\n",
       "                if (entry.contentBoxSize instanceof Array) {\n",
       "                    // Chrome 84 implements new version of spec.\n",
       "                    width = entry.contentBoxSize[0].inlineSize;\n",
       "                    height = entry.contentBoxSize[0].blockSize;\n",
       "                } else {\n",
       "                    // Firefox implements old version of spec.\n",
       "                    width = entry.contentBoxSize.inlineSize;\n",
       "                    height = entry.contentBoxSize.blockSize;\n",
       "                }\n",
       "            } else {\n",
       "                // Chrome <84 implements even older version of spec.\n",
       "                width = entry.contentRect.width;\n",
       "                height = entry.contentRect.height;\n",
       "            }\n",
       "\n",
       "            // Keep the size of the canvas and rubber band canvas in sync with\n",
       "            // the canvas container.\n",
       "            if (entry.devicePixelContentBoxSize) {\n",
       "                // Chrome 84 implements new version of spec.\n",
       "                canvas.setAttribute(\n",
       "                    'width',\n",
       "                    entry.devicePixelContentBoxSize[0].inlineSize\n",
       "                );\n",
       "                canvas.setAttribute(\n",
       "                    'height',\n",
       "                    entry.devicePixelContentBoxSize[0].blockSize\n",
       "                );\n",
       "            } else {\n",
       "                canvas.setAttribute('width', width * fig.ratio);\n",
       "                canvas.setAttribute('height', height * fig.ratio);\n",
       "            }\n",
       "            canvas.setAttribute(\n",
       "                'style',\n",
       "                'width: ' + width + 'px; height: ' + height + 'px;'\n",
       "            );\n",
       "\n",
       "            rubberband_canvas.setAttribute('width', width);\n",
       "            rubberband_canvas.setAttribute('height', height);\n",
       "\n",
       "            // And update the size in Python. We ignore the initial 0/0 size\n",
       "            // that occurs as the element is placed into the DOM, which should\n",
       "            // otherwise not happen due to the minimum size styling.\n",
       "            if (width != 0 && height != 0) {\n",
       "                fig.request_resize(width, height);\n",
       "            }\n",
       "        }\n",
       "    });\n",
       "    this.resizeObserverInstance.observe(canvas_div);\n",
       "\n",
       "    function on_mouse_event_closure(name) {\n",
       "        return function (event) {\n",
       "            return fig.mouse_event(event, name);\n",
       "        };\n",
       "    }\n",
       "\n",
       "    rubberband_canvas.addEventListener(\n",
       "        'mousedown',\n",
       "        on_mouse_event_closure('button_press')\n",
       "    );\n",
       "    rubberband_canvas.addEventListener(\n",
       "        'mouseup',\n",
       "        on_mouse_event_closure('button_release')\n",
       "    );\n",
       "    // Throttle sequential mouse events to 1 every 20ms.\n",
       "    rubberband_canvas.addEventListener(\n",
       "        'mousemove',\n",
       "        on_mouse_event_closure('motion_notify')\n",
       "    );\n",
       "\n",
       "    rubberband_canvas.addEventListener(\n",
       "        'mouseenter',\n",
       "        on_mouse_event_closure('figure_enter')\n",
       "    );\n",
       "    rubberband_canvas.addEventListener(\n",
       "        'mouseleave',\n",
       "        on_mouse_event_closure('figure_leave')\n",
       "    );\n",
       "\n",
       "    canvas_div.addEventListener('wheel', function (event) {\n",
       "        if (event.deltaY < 0) {\n",
       "            event.step = 1;\n",
       "        } else {\n",
       "            event.step = -1;\n",
       "        }\n",
       "        on_mouse_event_closure('scroll')(event);\n",
       "    });\n",
       "\n",
       "    canvas_div.appendChild(canvas);\n",
       "    canvas_div.appendChild(rubberband_canvas);\n",
       "\n",
       "    this.rubberband_context = rubberband_canvas.getContext('2d');\n",
       "    this.rubberband_context.strokeStyle = '#000000';\n",
       "\n",
       "    this._resize_canvas = function (width, height, forward) {\n",
       "        if (forward) {\n",
       "            canvas_div.style.width = width + 'px';\n",
       "            canvas_div.style.height = height + 'px';\n",
       "        }\n",
       "    };\n",
       "\n",
       "    // Disable right mouse context menu.\n",
       "    this.rubberband_canvas.addEventListener('contextmenu', function (_e) {\n",
       "        event.preventDefault();\n",
       "        return false;\n",
       "    });\n",
       "\n",
       "    function set_focus() {\n",
       "        canvas.focus();\n",
       "        canvas_div.focus();\n",
       "    }\n",
       "\n",
       "    window.setTimeout(set_focus, 100);\n",
       "};\n",
       "\n",
       "mpl.figure.prototype._init_toolbar = function () {\n",
       "    var fig = this;\n",
       "\n",
       "    var toolbar = document.createElement('div');\n",
       "    toolbar.classList = 'mpl-toolbar';\n",
       "    this.root.appendChild(toolbar);\n",
       "\n",
       "    function on_click_closure(name) {\n",
       "        return function (_event) {\n",
       "            return fig.toolbar_button_onclick(name);\n",
       "        };\n",
       "    }\n",
       "\n",
       "    function on_mouseover_closure(tooltip) {\n",
       "        return function (event) {\n",
       "            if (!event.currentTarget.disabled) {\n",
       "                return fig.toolbar_button_onmouseover(tooltip);\n",
       "            }\n",
       "        };\n",
       "    }\n",
       "\n",
       "    fig.buttons = {};\n",
       "    var buttonGroup = document.createElement('div');\n",
       "    buttonGroup.classList = 'mpl-button-group';\n",
       "    for (var toolbar_ind in mpl.toolbar_items) {\n",
       "        var name = mpl.toolbar_items[toolbar_ind][0];\n",
       "        var tooltip = mpl.toolbar_items[toolbar_ind][1];\n",
       "        var image = mpl.toolbar_items[toolbar_ind][2];\n",
       "        var method_name = mpl.toolbar_items[toolbar_ind][3];\n",
       "\n",
       "        if (!name) {\n",
       "            /* Instead of a spacer, we start a new button group. */\n",
       "            if (buttonGroup.hasChildNodes()) {\n",
       "                toolbar.appendChild(buttonGroup);\n",
       "            }\n",
       "            buttonGroup = document.createElement('div');\n",
       "            buttonGroup.classList = 'mpl-button-group';\n",
       "            continue;\n",
       "        }\n",
       "\n",
       "        var button = (fig.buttons[name] = document.createElement('button'));\n",
       "        button.classList = 'mpl-widget';\n",
       "        button.setAttribute('role', 'button');\n",
       "        button.setAttribute('aria-disabled', 'false');\n",
       "        button.addEventListener('click', on_click_closure(method_name));\n",
       "        button.addEventListener('mouseover', on_mouseover_closure(tooltip));\n",
       "\n",
       "        var icon_img = document.createElement('img');\n",
       "        icon_img.src = '_images/' + image + '.png';\n",
       "        icon_img.srcset = '_images/' + image + '_large.png 2x';\n",
       "        icon_img.alt = tooltip;\n",
       "        button.appendChild(icon_img);\n",
       "\n",
       "        buttonGroup.appendChild(button);\n",
       "    }\n",
       "\n",
       "    if (buttonGroup.hasChildNodes()) {\n",
       "        toolbar.appendChild(buttonGroup);\n",
       "    }\n",
       "\n",
       "    var fmt_picker = document.createElement('select');\n",
       "    fmt_picker.classList = 'mpl-widget';\n",
       "    toolbar.appendChild(fmt_picker);\n",
       "    this.format_dropdown = fmt_picker;\n",
       "\n",
       "    for (var ind in mpl.extensions) {\n",
       "        var fmt = mpl.extensions[ind];\n",
       "        var option = document.createElement('option');\n",
       "        option.selected = fmt === mpl.default_extension;\n",
       "        option.innerHTML = fmt;\n",
       "        fmt_picker.appendChild(option);\n",
       "    }\n",
       "\n",
       "    var status_bar = document.createElement('span');\n",
       "    status_bar.classList = 'mpl-message';\n",
       "    toolbar.appendChild(status_bar);\n",
       "    this.message = status_bar;\n",
       "};\n",
       "\n",
       "mpl.figure.prototype.request_resize = function (x_pixels, y_pixels) {\n",
       "    // Request matplotlib to resize the figure. Matplotlib will then trigger a resize in the client,\n",
       "    // which will in turn request a refresh of the image.\n",
       "    this.send_message('resize', { width: x_pixels, height: y_pixels });\n",
       "};\n",
       "\n",
       "mpl.figure.prototype.send_message = function (type, properties) {\n",
       "    properties['type'] = type;\n",
       "    properties['figure_id'] = this.id;\n",
       "    this.ws.send(JSON.stringify(properties));\n",
       "};\n",
       "\n",
       "mpl.figure.prototype.send_draw_message = function () {\n",
       "    if (!this.waiting) {\n",
       "        this.waiting = true;\n",
       "        this.ws.send(JSON.stringify({ type: 'draw', figure_id: this.id }));\n",
       "    }\n",
       "};\n",
       "\n",
       "mpl.figure.prototype.handle_save = function (fig, _msg) {\n",
       "    var format_dropdown = fig.format_dropdown;\n",
       "    var format = format_dropdown.options[format_dropdown.selectedIndex].value;\n",
       "    fig.ondownload(fig, format);\n",
       "};\n",
       "\n",
       "mpl.figure.prototype.handle_resize = function (fig, msg) {\n",
       "    var size = msg['size'];\n",
       "    if (size[0] !== fig.canvas.width || size[1] !== fig.canvas.height) {\n",
       "        fig._resize_canvas(size[0], size[1], msg['forward']);\n",
       "        fig.send_message('refresh', {});\n",
       "    }\n",
       "};\n",
       "\n",
       "mpl.figure.prototype.handle_rubberband = function (fig, msg) {\n",
       "    var x0 = msg['x0'] / fig.ratio;\n",
       "    var y0 = (fig.canvas.height - msg['y0']) / fig.ratio;\n",
       "    var x1 = msg['x1'] / fig.ratio;\n",
       "    var y1 = (fig.canvas.height - msg['y1']) / fig.ratio;\n",
       "    x0 = Math.floor(x0) + 0.5;\n",
       "    y0 = Math.floor(y0) + 0.5;\n",
       "    x1 = Math.floor(x1) + 0.5;\n",
       "    y1 = Math.floor(y1) + 0.5;\n",
       "    var min_x = Math.min(x0, x1);\n",
       "    var min_y = Math.min(y0, y1);\n",
       "    var width = Math.abs(x1 - x0);\n",
       "    var height = Math.abs(y1 - y0);\n",
       "\n",
       "    fig.rubberband_context.clearRect(\n",
       "        0,\n",
       "        0,\n",
       "        fig.canvas.width / fig.ratio,\n",
       "        fig.canvas.height / fig.ratio\n",
       "    );\n",
       "\n",
       "    fig.rubberband_context.strokeRect(min_x, min_y, width, height);\n",
       "};\n",
       "\n",
       "mpl.figure.prototype.handle_figure_label = function (fig, msg) {\n",
       "    // Updates the figure title.\n",
       "    fig.header.textContent = msg['label'];\n",
       "};\n",
       "\n",
       "mpl.figure.prototype.handle_cursor = function (fig, msg) {\n",
       "    var cursor = msg['cursor'];\n",
       "    switch (cursor) {\n",
       "        case 0:\n",
       "            cursor = 'pointer';\n",
       "            break;\n",
       "        case 1:\n",
       "            cursor = 'default';\n",
       "            break;\n",
       "        case 2:\n",
       "            cursor = 'crosshair';\n",
       "            break;\n",
       "        case 3:\n",
       "            cursor = 'move';\n",
       "            break;\n",
       "    }\n",
       "    fig.rubberband_canvas.style.cursor = cursor;\n",
       "};\n",
       "\n",
       "mpl.figure.prototype.handle_message = function (fig, msg) {\n",
       "    fig.message.textContent = msg['message'];\n",
       "};\n",
       "\n",
       "mpl.figure.prototype.handle_draw = function (fig, _msg) {\n",
       "    // Request the server to send over a new figure.\n",
       "    fig.send_draw_message();\n",
       "};\n",
       "\n",
       "mpl.figure.prototype.handle_image_mode = function (fig, msg) {\n",
       "    fig.image_mode = msg['mode'];\n",
       "};\n",
       "\n",
       "mpl.figure.prototype.handle_history_buttons = function (fig, msg) {\n",
       "    for (var key in msg) {\n",
       "        if (!(key in fig.buttons)) {\n",
       "            continue;\n",
       "        }\n",
       "        fig.buttons[key].disabled = !msg[key];\n",
       "        fig.buttons[key].setAttribute('aria-disabled', !msg[key]);\n",
       "    }\n",
       "};\n",
       "\n",
       "mpl.figure.prototype.handle_navigate_mode = function (fig, msg) {\n",
       "    if (msg['mode'] === 'PAN') {\n",
       "        fig.buttons['Pan'].classList.add('active');\n",
       "        fig.buttons['Zoom'].classList.remove('active');\n",
       "    } else if (msg['mode'] === 'ZOOM') {\n",
       "        fig.buttons['Pan'].classList.remove('active');\n",
       "        fig.buttons['Zoom'].classList.add('active');\n",
       "    } else {\n",
       "        fig.buttons['Pan'].classList.remove('active');\n",
       "        fig.buttons['Zoom'].classList.remove('active');\n",
       "    }\n",
       "};\n",
       "\n",
       "mpl.figure.prototype.updated_canvas_event = function () {\n",
       "    // Called whenever the canvas gets updated.\n",
       "    this.send_message('ack', {});\n",
       "};\n",
       "\n",
       "// A function to construct a web socket function for onmessage handling.\n",
       "// Called in the figure constructor.\n",
       "mpl.figure.prototype._make_on_message_function = function (fig) {\n",
       "    return function socket_on_message(evt) {\n",
       "        if (evt.data instanceof Blob) {\n",
       "            /* FIXME: We get \"Resource interpreted as Image but\n",
       "             * transferred with MIME type text/plain:\" errors on\n",
       "             * Chrome.  But how to set the MIME type?  It doesn't seem\n",
       "             * to be part of the websocket stream */\n",
       "            evt.data.type = 'image/png';\n",
       "\n",
       "            /* Free the memory for the previous frames */\n",
       "            if (fig.imageObj.src) {\n",
       "                (window.URL || window.webkitURL).revokeObjectURL(\n",
       "                    fig.imageObj.src\n",
       "                );\n",
       "            }\n",
       "\n",
       "            fig.imageObj.src = (window.URL || window.webkitURL).createObjectURL(\n",
       "                evt.data\n",
       "            );\n",
       "            fig.updated_canvas_event();\n",
       "            fig.waiting = false;\n",
       "            return;\n",
       "        } else if (\n",
       "            typeof evt.data === 'string' &&\n",
       "            evt.data.slice(0, 21) === 'data:image/png;base64'\n",
       "        ) {\n",
       "            fig.imageObj.src = evt.data;\n",
       "            fig.updated_canvas_event();\n",
       "            fig.waiting = false;\n",
       "            return;\n",
       "        }\n",
       "\n",
       "        var msg = JSON.parse(evt.data);\n",
       "        var msg_type = msg['type'];\n",
       "\n",
       "        // Call the  \"handle_{type}\" callback, which takes\n",
       "        // the figure and JSON message as its only arguments.\n",
       "        try {\n",
       "            var callback = fig['handle_' + msg_type];\n",
       "        } catch (e) {\n",
       "            console.log(\n",
       "                \"No handler for the '\" + msg_type + \"' message type: \",\n",
       "                msg\n",
       "            );\n",
       "            return;\n",
       "        }\n",
       "\n",
       "        if (callback) {\n",
       "            try {\n",
       "                // console.log(\"Handling '\" + msg_type + \"' message: \", msg);\n",
       "                callback(fig, msg);\n",
       "            } catch (e) {\n",
       "                console.log(\n",
       "                    \"Exception inside the 'handler_\" + msg_type + \"' callback:\",\n",
       "                    e,\n",
       "                    e.stack,\n",
       "                    msg\n",
       "                );\n",
       "            }\n",
       "        }\n",
       "    };\n",
       "};\n",
       "\n",
       "// from http://stackoverflow.com/questions/1114465/getting-mouse-location-in-canvas\n",
       "mpl.findpos = function (e) {\n",
       "    //this section is from http://www.quirksmode.org/js/events_properties.html\n",
       "    var targ;\n",
       "    if (!e) {\n",
       "        e = window.event;\n",
       "    }\n",
       "    if (e.target) {\n",
       "        targ = e.target;\n",
       "    } else if (e.srcElement) {\n",
       "        targ = e.srcElement;\n",
       "    }\n",
       "    if (targ.nodeType === 3) {\n",
       "        // defeat Safari bug\n",
       "        targ = targ.parentNode;\n",
       "    }\n",
       "\n",
       "    // pageX,Y are the mouse positions relative to the document\n",
       "    var boundingRect = targ.getBoundingClientRect();\n",
       "    var x = e.pageX - (boundingRect.left + document.body.scrollLeft);\n",
       "    var y = e.pageY - (boundingRect.top + document.body.scrollTop);\n",
       "\n",
       "    return { x: x, y: y };\n",
       "};\n",
       "\n",
       "/*\n",
       " * return a copy of an object with only non-object keys\n",
       " * we need this to avoid circular references\n",
       " * http://stackoverflow.com/a/24161582/3208463\n",
       " */\n",
       "function simpleKeys(original) {\n",
       "    return Object.keys(original).reduce(function (obj, key) {\n",
       "        if (typeof original[key] !== 'object') {\n",
       "            obj[key] = original[key];\n",
       "        }\n",
       "        return obj;\n",
       "    }, {});\n",
       "}\n",
       "\n",
       "mpl.figure.prototype.mouse_event = function (event, name) {\n",
       "    var canvas_pos = mpl.findpos(event);\n",
       "\n",
       "    if (name === 'button_press') {\n",
       "        this.canvas.focus();\n",
       "        this.canvas_div.focus();\n",
       "    }\n",
       "\n",
       "    var x = canvas_pos.x * this.ratio;\n",
       "    var y = canvas_pos.y * this.ratio;\n",
       "\n",
       "    this.send_message(name, {\n",
       "        x: x,\n",
       "        y: y,\n",
       "        button: event.button,\n",
       "        step: event.step,\n",
       "        guiEvent: simpleKeys(event),\n",
       "    });\n",
       "\n",
       "    /* This prevents the web browser from automatically changing to\n",
       "     * the text insertion cursor when the button is pressed.  We want\n",
       "     * to control all of the cursor setting manually through the\n",
       "     * 'cursor' event from matplotlib */\n",
       "    event.preventDefault();\n",
       "    return false;\n",
       "};\n",
       "\n",
       "mpl.figure.prototype._key_event_extra = function (_event, _name) {\n",
       "    // Handle any extra behaviour associated with a key event\n",
       "};\n",
       "\n",
       "mpl.figure.prototype.key_event = function (event, name) {\n",
       "    // Prevent repeat events\n",
       "    if (name === 'key_press') {\n",
       "        if (event.which === this._key) {\n",
       "            return;\n",
       "        } else {\n",
       "            this._key = event.which;\n",
       "        }\n",
       "    }\n",
       "    if (name === 'key_release') {\n",
       "        this._key = null;\n",
       "    }\n",
       "\n",
       "    var value = '';\n",
       "    if (event.ctrlKey && event.which !== 17) {\n",
       "        value += 'ctrl+';\n",
       "    }\n",
       "    if (event.altKey && event.which !== 18) {\n",
       "        value += 'alt+';\n",
       "    }\n",
       "    if (event.shiftKey && event.which !== 16) {\n",
       "        value += 'shift+';\n",
       "    }\n",
       "\n",
       "    value += 'k';\n",
       "    value += event.which.toString();\n",
       "\n",
       "    this._key_event_extra(event, name);\n",
       "\n",
       "    this.send_message(name, { key: value, guiEvent: simpleKeys(event) });\n",
       "    return false;\n",
       "};\n",
       "\n",
       "mpl.figure.prototype.toolbar_button_onclick = function (name) {\n",
       "    if (name === 'download') {\n",
       "        this.handle_save(this, null);\n",
       "    } else {\n",
       "        this.send_message('toolbar_button', { name: name });\n",
       "    }\n",
       "};\n",
       "\n",
       "mpl.figure.prototype.toolbar_button_onmouseover = function (tooltip) {\n",
       "    this.message.textContent = tooltip;\n",
       "};\n",
       "\n",
       "///////////////// REMAINING CONTENT GENERATED BY embed_js.py /////////////////\n",
       "// prettier-ignore\n",
       "var _JSXTOOLS_RESIZE_OBSERVER=function(A){var t,i=new WeakMap,n=new WeakMap,a=new WeakMap,r=new WeakMap,o=new Set;function s(e){if(!(this instanceof s))throw new TypeError(\"Constructor requires 'new' operator\");i.set(this,e)}function h(){throw new TypeError(\"Function is not a constructor\")}function c(e,t,i,n){e=0 in arguments?Number(arguments[0]):0,t=1 in arguments?Number(arguments[1]):0,i=2 in arguments?Number(arguments[2]):0,n=3 in arguments?Number(arguments[3]):0,this.right=(this.x=this.left=e)+(this.width=i),this.bottom=(this.y=this.top=t)+(this.height=n),Object.freeze(this)}function d(){t=requestAnimationFrame(d);var s=new WeakMap,p=new Set;o.forEach((function(t){r.get(t).forEach((function(i){var r=t instanceof window.SVGElement,o=a.get(t),d=r?0:parseFloat(o.paddingTop),f=r?0:parseFloat(o.paddingRight),l=r?0:parseFloat(o.paddingBottom),u=r?0:parseFloat(o.paddingLeft),g=r?0:parseFloat(o.borderTopWidth),m=r?0:parseFloat(o.borderRightWidth),w=r?0:parseFloat(o.borderBottomWidth),b=u+f,F=d+l,v=(r?0:parseFloat(o.borderLeftWidth))+m,W=g+w,y=r?0:t.offsetHeight-W-t.clientHeight,E=r?0:t.offsetWidth-v-t.clientWidth,R=b+v,z=F+W,M=r?t.width:parseFloat(o.width)-R-E,O=r?t.height:parseFloat(o.height)-z-y;if(n.has(t)){var k=n.get(t);if(k[0]===M&&k[1]===O)return}n.set(t,[M,O]);var S=Object.create(h.prototype);S.target=t,S.contentRect=new c(u,d,M,O),s.has(i)||(s.set(i,[]),p.add(i)),s.get(i).push(S)}))})),p.forEach((function(e){i.get(e).call(e,s.get(e),e)}))}return s.prototype.observe=function(i){if(i instanceof window.Element){r.has(i)||(r.set(i,new Set),o.add(i),a.set(i,window.getComputedStyle(i)));var n=r.get(i);n.has(this)||n.add(this),cancelAnimationFrame(t),t=requestAnimationFrame(d)}},s.prototype.unobserve=function(i){if(i instanceof window.Element&&r.has(i)){var n=r.get(i);n.has(this)&&(n.delete(this),n.size||(r.delete(i),o.delete(i))),n.size||r.delete(i),o.size||cancelAnimationFrame(t)}},A.DOMRectReadOnly=c,A.ResizeObserver=s,A.ResizeObserverEntry=h,A}; // eslint-disable-line\n",
       "mpl.toolbar_items = [[\"Home\", \"Reset original view\", \"fa fa-home icon-home\", \"home\"], [\"Back\", \"Back to previous view\", \"fa fa-arrow-left icon-arrow-left\", \"back\"], [\"Forward\", \"Forward to next view\", \"fa fa-arrow-right icon-arrow-right\", \"forward\"], [\"\", \"\", \"\", \"\"], [\"Pan\", \"Left button pans, Right button zooms\\nx/y fixes axis, CTRL fixes aspect\", \"fa fa-arrows icon-move\", \"pan\"], [\"Zoom\", \"Zoom to rectangle\\nx/y fixes axis, CTRL fixes aspect\", \"fa fa-square-o icon-check-empty\", \"zoom\"], [\"\", \"\", \"\", \"\"], [\"Download\", \"Download plot\", \"fa fa-floppy-o icon-save\", \"download\"]];\n",
       "\n",
       "mpl.extensions = [\"eps\", \"jpeg\", \"pdf\", \"png\", \"ps\", \"raw\", \"svg\", \"tif\"];\n",
       "\n",
       "mpl.default_extension = \"png\";/* global mpl */\n",
       "\n",
       "var comm_websocket_adapter = function (comm) {\n",
       "    // Create a \"websocket\"-like object which calls the given IPython comm\n",
       "    // object with the appropriate methods. Currently this is a non binary\n",
       "    // socket, so there is still some room for performance tuning.\n",
       "    var ws = {};\n",
       "\n",
       "    ws.close = function () {\n",
       "        comm.close();\n",
       "    };\n",
       "    ws.send = function (m) {\n",
       "        //console.log('sending', m);\n",
       "        comm.send(m);\n",
       "    };\n",
       "    // Register the callback with on_msg.\n",
       "    comm.on_msg(function (msg) {\n",
       "        //console.log('receiving', msg['content']['data'], msg);\n",
       "        // Pass the mpl event to the overridden (by mpl) onmessage function.\n",
       "        ws.onmessage(msg['content']['data']);\n",
       "    });\n",
       "    return ws;\n",
       "};\n",
       "\n",
       "mpl.mpl_figure_comm = function (comm, msg) {\n",
       "    // This is the function which gets called when the mpl process\n",
       "    // starts-up an IPython Comm through the \"matplotlib\" channel.\n",
       "\n",
       "    var id = msg.content.data.id;\n",
       "    // Get hold of the div created by the display call when the Comm\n",
       "    // socket was opened in Python.\n",
       "    var element = document.getElementById(id);\n",
       "    var ws_proxy = comm_websocket_adapter(comm);\n",
       "\n",
       "    function ondownload(figure, _format) {\n",
       "        window.open(figure.canvas.toDataURL());\n",
       "    }\n",
       "\n",
       "    var fig = new mpl.figure(id, ws_proxy, ondownload, element);\n",
       "\n",
       "    // Call onopen now - mpl needs it, as it is assuming we've passed it a real\n",
       "    // web socket which is closed, not our websocket->open comm proxy.\n",
       "    ws_proxy.onopen();\n",
       "\n",
       "    fig.parent_element = element;\n",
       "    fig.cell_info = mpl.find_output_cell(\"<div id='\" + id + \"'></div>\");\n",
       "    if (!fig.cell_info) {\n",
       "        console.error('Failed to find cell for figure', id, fig);\n",
       "        return;\n",
       "    }\n",
       "    fig.cell_info[0].output_area.element.on(\n",
       "        'cleared',\n",
       "        { fig: fig },\n",
       "        fig._remove_fig_handler\n",
       "    );\n",
       "};\n",
       "\n",
       "mpl.figure.prototype.handle_close = function (fig, msg) {\n",
       "    var width = fig.canvas.width / fig.ratio;\n",
       "    fig.cell_info[0].output_area.element.off(\n",
       "        'cleared',\n",
       "        fig._remove_fig_handler\n",
       "    );\n",
       "    fig.resizeObserverInstance.unobserve(fig.canvas_div);\n",
       "\n",
       "    // Update the output cell to use the data from the current canvas.\n",
       "    fig.push_to_output();\n",
       "    var dataURL = fig.canvas.toDataURL();\n",
       "    // Re-enable the keyboard manager in IPython - without this line, in FF,\n",
       "    // the notebook keyboard shortcuts fail.\n",
       "    IPython.keyboard_manager.enable();\n",
       "    fig.parent_element.innerHTML =\n",
       "        '<img src=\"' + dataURL + '\" width=\"' + width + '\">';\n",
       "    fig.close_ws(fig, msg);\n",
       "};\n",
       "\n",
       "mpl.figure.prototype.close_ws = function (fig, msg) {\n",
       "    fig.send_message('closing', msg);\n",
       "    // fig.ws.close()\n",
       "};\n",
       "\n",
       "mpl.figure.prototype.push_to_output = function (_remove_interactive) {\n",
       "    // Turn the data on the canvas into data in the output cell.\n",
       "    var width = this.canvas.width / this.ratio;\n",
       "    var dataURL = this.canvas.toDataURL();\n",
       "    this.cell_info[1]['text/html'] =\n",
       "        '<img src=\"' + dataURL + '\" width=\"' + width + '\">';\n",
       "};\n",
       "\n",
       "mpl.figure.prototype.updated_canvas_event = function () {\n",
       "    // Tell IPython that the notebook contents must change.\n",
       "    IPython.notebook.set_dirty(true);\n",
       "    this.send_message('ack', {});\n",
       "    var fig = this;\n",
       "    // Wait a second, then push the new image to the DOM so\n",
       "    // that it is saved nicely (might be nice to debounce this).\n",
       "    setTimeout(function () {\n",
       "        fig.push_to_output();\n",
       "    }, 1000);\n",
       "};\n",
       "\n",
       "mpl.figure.prototype._init_toolbar = function () {\n",
       "    var fig = this;\n",
       "\n",
       "    var toolbar = document.createElement('div');\n",
       "    toolbar.classList = 'btn-toolbar';\n",
       "    this.root.appendChild(toolbar);\n",
       "\n",
       "    function on_click_closure(name) {\n",
       "        return function (_event) {\n",
       "            return fig.toolbar_button_onclick(name);\n",
       "        };\n",
       "    }\n",
       "\n",
       "    function on_mouseover_closure(tooltip) {\n",
       "        return function (event) {\n",
       "            if (!event.currentTarget.disabled) {\n",
       "                return fig.toolbar_button_onmouseover(tooltip);\n",
       "            }\n",
       "        };\n",
       "    }\n",
       "\n",
       "    fig.buttons = {};\n",
       "    var buttonGroup = document.createElement('div');\n",
       "    buttonGroup.classList = 'btn-group';\n",
       "    var button;\n",
       "    for (var toolbar_ind in mpl.toolbar_items) {\n",
       "        var name = mpl.toolbar_items[toolbar_ind][0];\n",
       "        var tooltip = mpl.toolbar_items[toolbar_ind][1];\n",
       "        var image = mpl.toolbar_items[toolbar_ind][2];\n",
       "        var method_name = mpl.toolbar_items[toolbar_ind][3];\n",
       "\n",
       "        if (!name) {\n",
       "            /* Instead of a spacer, we start a new button group. */\n",
       "            if (buttonGroup.hasChildNodes()) {\n",
       "                toolbar.appendChild(buttonGroup);\n",
       "            }\n",
       "            buttonGroup = document.createElement('div');\n",
       "            buttonGroup.classList = 'btn-group';\n",
       "            continue;\n",
       "        }\n",
       "\n",
       "        button = fig.buttons[name] = document.createElement('button');\n",
       "        button.classList = 'btn btn-default';\n",
       "        button.href = '#';\n",
       "        button.title = name;\n",
       "        button.innerHTML = '<i class=\"fa ' + image + ' fa-lg\"></i>';\n",
       "        button.addEventListener('click', on_click_closure(method_name));\n",
       "        button.addEventListener('mouseover', on_mouseover_closure(tooltip));\n",
       "        buttonGroup.appendChild(button);\n",
       "    }\n",
       "\n",
       "    if (buttonGroup.hasChildNodes()) {\n",
       "        toolbar.appendChild(buttonGroup);\n",
       "    }\n",
       "\n",
       "    // Add the status bar.\n",
       "    var status_bar = document.createElement('span');\n",
       "    status_bar.classList = 'mpl-message pull-right';\n",
       "    toolbar.appendChild(status_bar);\n",
       "    this.message = status_bar;\n",
       "\n",
       "    // Add the close button to the window.\n",
       "    var buttongrp = document.createElement('div');\n",
       "    buttongrp.classList = 'btn-group inline pull-right';\n",
       "    button = document.createElement('button');\n",
       "    button.classList = 'btn btn-mini btn-primary';\n",
       "    button.href = '#';\n",
       "    button.title = 'Stop Interaction';\n",
       "    button.innerHTML = '<i class=\"fa fa-power-off icon-remove icon-large\"></i>';\n",
       "    button.addEventListener('click', function (_evt) {\n",
       "        fig.handle_close(fig, {});\n",
       "    });\n",
       "    button.addEventListener(\n",
       "        'mouseover',\n",
       "        on_mouseover_closure('Stop Interaction')\n",
       "    );\n",
       "    buttongrp.appendChild(button);\n",
       "    var titlebar = this.root.querySelector('.ui-dialog-titlebar');\n",
       "    titlebar.insertBefore(buttongrp, titlebar.firstChild);\n",
       "};\n",
       "\n",
       "mpl.figure.prototype._remove_fig_handler = function (event) {\n",
       "    var fig = event.data.fig;\n",
       "    if (event.target !== this) {\n",
       "        // Ignore bubbled events from children.\n",
       "        return;\n",
       "    }\n",
       "    fig.close_ws(fig, {});\n",
       "};\n",
       "\n",
       "mpl.figure.prototype._root_extra_style = function (el) {\n",
       "    el.style.boxSizing = 'content-box'; // override notebook setting of border-box.\n",
       "};\n",
       "\n",
       "mpl.figure.prototype._canvas_extra_style = function (el) {\n",
       "    // this is important to make the div 'focusable\n",
       "    el.setAttribute('tabindex', 0);\n",
       "    // reach out to IPython and tell the keyboard manager to turn it's self\n",
       "    // off when our div gets focus\n",
       "\n",
       "    // location in version 3\n",
       "    if (IPython.notebook.keyboard_manager) {\n",
       "        IPython.notebook.keyboard_manager.register_events(el);\n",
       "    } else {\n",
       "        // location in version 2\n",
       "        IPython.keyboard_manager.register_events(el);\n",
       "    }\n",
       "};\n",
       "\n",
       "mpl.figure.prototype._key_event_extra = function (event, _name) {\n",
       "    var manager = IPython.notebook.keyboard_manager;\n",
       "    if (!manager) {\n",
       "        manager = IPython.keyboard_manager;\n",
       "    }\n",
       "\n",
       "    // Check for shift+enter\n",
       "    if (event.shiftKey && event.which === 13) {\n",
       "        this.canvas_div.blur();\n",
       "        // select the cell after this one\n",
       "        var index = IPython.notebook.find_cell_index(this.cell_info[0]);\n",
       "        IPython.notebook.select(index + 1);\n",
       "    }\n",
       "};\n",
       "\n",
       "mpl.figure.prototype.handle_save = function (fig, _msg) {\n",
       "    fig.ondownload(fig, null);\n",
       "};\n",
       "\n",
       "mpl.find_output_cell = function (html_output) {\n",
       "    // Return the cell and output element which can be found *uniquely* in the notebook.\n",
       "    // Note - this is a bit hacky, but it is done because the \"notebook_saving.Notebook\"\n",
       "    // IPython event is triggered only after the cells have been serialised, which for\n",
       "    // our purposes (turning an active figure into a static one), is too late.\n",
       "    var cells = IPython.notebook.get_cells();\n",
       "    var ncells = cells.length;\n",
       "    for (var i = 0; i < ncells; i++) {\n",
       "        var cell = cells[i];\n",
       "        if (cell.cell_type === 'code') {\n",
       "            for (var j = 0; j < cell.output_area.outputs.length; j++) {\n",
       "                var data = cell.output_area.outputs[j];\n",
       "                if (data.data) {\n",
       "                    // IPython >= 3 moved mimebundle to data attribute of output\n",
       "                    data = data.data;\n",
       "                }\n",
       "                if (data['text/html'] === html_output) {\n",
       "                    return [cell, data, j];\n",
       "                }\n",
       "            }\n",
       "        }\n",
       "    }\n",
       "};\n",
       "\n",
       "// Register the function which deals with the matplotlib target/channel.\n",
       "// The kernel may be null if the page has been refreshed.\n",
       "if (IPython.notebook.kernel !== null) {\n",
       "    IPython.notebook.kernel.comm_manager.register_target(\n",
       "        'matplotlib',\n",
       "        mpl.mpl_figure_comm\n",
       "    );\n",
       "}\n"
      ],
      "text/plain": [
       "<IPython.core.display.Javascript object>"
      ]
     },
     "metadata": {},
     "output_type": "display_data"
    },
    {
     "data": {
      "text/html": [
       "<img src=\"data:image/png;base64,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\" width=\"639.65\">"
      ],
      "text/plain": [
       "<IPython.core.display.HTML object>"
      ]
     },
     "metadata": {},
     "output_type": "display_data"
    },
    {
     "data": {
      "text/plain": [
       "<matplotlib.collections.PathCollection at 0x7fe0ff1711c0>"
      ]
     },
     "execution_count": 22,
     "metadata": {},
     "output_type": "execute_result"
    }
   ],
   "source": [
    "%matplotlib notebook\n",
    "\n",
    "plt.scatter(arrayForBondLengths,arrayForEnergies)"
   ]
  },
  {
   "cell_type": "markdown",
   "metadata": {},
   "source": [
    "# Description of a Z-matrix\n",
    "\n",
    "Notes for myself because I'm struggling to remember.\n",
    " - Each line is one atom\n",
    " - The first atom is just identified\n",
    " - Next atom gets it's symbol and a bond length relative to #1\n",
    " - Next atom gets symbol, bond length, bond angle\n",
    " - Next atom gets symbol, bond length, bond angle, dihedral\n",
    " - Each row references previously defined atoms by number, 1-indexed"
   ]
  },
  {
   "cell_type": "markdown",
   "metadata": {},
   "source": [
    "# Methane\n",
    "\n",
    "Playing a bit with methane here, to explore how to input things a little differently. FIrstly, let's try inputing the wrong bond length and then optimizing the geometry to get the real length."
   ]
  },
  {
   "cell_type": "code",
   "execution_count": 23,
   "metadata": {},
   "outputs": [],
   "source": [
    "r = 2\n",
    "ch4 = psi4.geometry(f\"\"\"\n",
    "C\n",
    "H 1 {r}\n",
    "H 1 {r} 2 109.5\n",
    "H 1 {r} 2 109.5 3 120\n",
    "H 1 {r} 2 109.5 3 -120\n",
    "\"\"\")"
   ]
  },
  {
   "cell_type": "code",
   "execution_count": 24,
   "metadata": {},
   "outputs": [
    {
     "name": "stdout",
     "output_type": "stream",
     "text": [
      "The minized energy at this bond length is  -38.847253569085744\n"
     ]
    }
   ],
   "source": [
    "methaneEnergy = psi4.energy(\"scf/STO-3G\", molecule = ch4)\n",
    "print(\"The minized energy at this bond length is \", methaneEnergy)"
   ]
  },
  {
   "cell_type": "code",
   "execution_count": 25,
   "metadata": {},
   "outputs": [
    {
     "name": "stdout",
     "output_type": "stream",
     "text": [
      "Optimizer: Optimization complete!\n",
      "The minized energy at this bond length is  -39.72701070937292\n"
     ]
    }
   ],
   "source": [
    "methaneEnergy_opt = psi4.optimize('scf/sto-3g',molecule = ch4)\n",
    "print(\"The minized energy at this bond length is \", methaneEnergy_opt)"
   ]
  },
  {
   "cell_type": "markdown",
   "metadata": {},
   "source": [
    "## Back to water\n",
    "\n",
    "I'm working with the previously defined water geometry from way up top.\n",
    "\n",
    "First, I'm going to optimize the geometry.\n",
    "\n",
    "The next line performes the frequency analysis. This saves a *lot* of information in a funny pile of data types."
   ]
  },
  {
   "cell_type": "markdown",
   "metadata": {},
   "source": [
    "Information on working out frequencies is here:\n",
    "https://psicode.org/psi4manual/master/freq.html#psi4.frequency\n",
    "\n",
    "Useful example showing all of these functions\n",
    "https://github.com/psi4/psi4/blob/master/samples/fd-freq-gradient/input.dat\n"
   ]
  },
  {
   "cell_type": "code",
   "execution_count": 4,
   "metadata": {},
   "outputs": [
    {
     "name": "stdout",
     "output_type": "stream",
     "text": [
      "Optimizer: Optimization complete!\n"
     ]
    }
   ],
   "source": [
    "psi4.optimize('scf/6-31g',molecule = h2o)\n",
    "e, wfn = psi4.frequencies('scf/6-31g', molecule = h2o, return_wfn = True)\n",
    "vibinfo = wfn.frequency_analysis"
   ]
  },
  {
   "cell_type": "markdown",
   "metadata": {},
   "source": [
    "The next two cells are me pulling out some useful information from the generated vibrational information and outputting it as a nice table."
   ]
  },
  {
   "cell_type": "code",
   "execution_count": 5,
   "metadata": {},
   "outputs": [],
   "source": [
    "reps = vibinfo['gamma'].data\n",
    "freqs = np.real(vibinfo['omega'].data)\n",
    "motion = vibinfo['TRV'].data\n",
    "deg = vibinfo['degeneracy'].data"
   ]
  },
  {
   "cell_type": "code",
   "execution_count": 29,
   "metadata": {},
   "outputs": [
    {
     "data": {
      "text/html": [
       "<div>\n",
       "<style scoped>\n",
       "    .dataframe tbody tr th:only-of-type {\n",
       "        vertical-align: middle;\n",
       "    }\n",
       "\n",
       "    .dataframe tbody tr th {\n",
       "        vertical-align: top;\n",
       "    }\n",
       "\n",
       "    .dataframe thead th {\n",
       "        text-align: right;\n",
       "    }\n",
       "</style>\n",
       "<table border=\"1\" class=\"dataframe\">\n",
       "  <thead>\n",
       "    <tr style=\"text-align: right;\">\n",
       "      <th></th>\n",
       "      <th>Representation</th>\n",
       "      <th>Frequency</th>\n",
       "      <th>Type of motion</th>\n",
       "      <th>Degeneracy</th>\n",
       "    </tr>\n",
       "  </thead>\n",
       "  <tbody>\n",
       "    <tr>\n",
       "      <th>0</th>\n",
       "      <td>None</td>\n",
       "      <td>0.000000</td>\n",
       "      <td>TR</td>\n",
       "      <td>6</td>\n",
       "    </tr>\n",
       "    <tr>\n",
       "      <th>1</th>\n",
       "      <td>None</td>\n",
       "      <td>0.000000</td>\n",
       "      <td>TR</td>\n",
       "      <td>6</td>\n",
       "    </tr>\n",
       "    <tr>\n",
       "      <th>2</th>\n",
       "      <td>None</td>\n",
       "      <td>0.000000</td>\n",
       "      <td>TR</td>\n",
       "      <td>6</td>\n",
       "    </tr>\n",
       "    <tr>\n",
       "      <th>3</th>\n",
       "      <td>None</td>\n",
       "      <td>0.000000</td>\n",
       "      <td>TR</td>\n",
       "      <td>6</td>\n",
       "    </tr>\n",
       "    <tr>\n",
       "      <th>4</th>\n",
       "      <td>None</td>\n",
       "      <td>0.000000</td>\n",
       "      <td>TR</td>\n",
       "      <td>6</td>\n",
       "    </tr>\n",
       "    <tr>\n",
       "      <th>5</th>\n",
       "      <td>None</td>\n",
       "      <td>0.000031</td>\n",
       "      <td>TR</td>\n",
       "      <td>6</td>\n",
       "    </tr>\n",
       "    <tr>\n",
       "      <th>6</th>\n",
       "      <td>A1</td>\n",
       "      <td>1737.052391</td>\n",
       "      <td>V</td>\n",
       "      <td>1</td>\n",
       "    </tr>\n",
       "    <tr>\n",
       "      <th>7</th>\n",
       "      <td>A1</td>\n",
       "      <td>3988.641527</td>\n",
       "      <td>V</td>\n",
       "      <td>1</td>\n",
       "    </tr>\n",
       "    <tr>\n",
       "      <th>8</th>\n",
       "      <td>B2</td>\n",
       "      <td>4145.574061</td>\n",
       "      <td>V</td>\n",
       "      <td>1</td>\n",
       "    </tr>\n",
       "  </tbody>\n",
       "</table>\n",
       "</div>"
      ],
      "text/plain": [
       "  Representation    Frequency Type of motion Degeneracy\n",
       "0           None     0.000000             TR          6\n",
       "1           None     0.000000             TR          6\n",
       "2           None     0.000000             TR          6\n",
       "3           None     0.000000             TR          6\n",
       "4           None     0.000000             TR          6\n",
       "5           None     0.000031             TR          6\n",
       "6             A1  1737.052391              V          1\n",
       "7             A1  3988.641527              V          1\n",
       "8             B2  4145.574061              V          1"
      ]
     },
     "execution_count": 29,
     "metadata": {},
     "output_type": "execute_result"
    }
   ],
   "source": [
    "pd.DataFrame(np.transpose([reps, freqs, motion, deg]), columns = [\"Representation\", \"Frequency\", \"Type of motion\", \"Degeneracy\"])"
   ]
  },
  {
   "cell_type": "markdown",
   "metadata": {},
   "source": [
    "It's the right symmetry, and the normal modes are just fine. Below, I'm testing how robust it is to putting in a goofy initial geometry - I stretched one of the bonds out. Looks like it still settles on the frequencies pretty well, but flubs the representations."
   ]
  },
  {
   "cell_type": "code",
   "execution_count": 31,
   "metadata": {},
   "outputs": [
    {
     "name": "stdout",
     "output_type": "stream",
     "text": [
      "Optimizer: Optimization complete!\n"
     ]
    },
    {
     "data": {
      "text/html": [
       "<div>\n",
       "<style scoped>\n",
       "    .dataframe tbody tr th:only-of-type {\n",
       "        vertical-align: middle;\n",
       "    }\n",
       "\n",
       "    .dataframe tbody tr th {\n",
       "        vertical-align: top;\n",
       "    }\n",
       "\n",
       "    .dataframe thead th {\n",
       "        text-align: right;\n",
       "    }\n",
       "</style>\n",
       "<table border=\"1\" class=\"dataframe\">\n",
       "  <thead>\n",
       "    <tr style=\"text-align: right;\">\n",
       "      <th></th>\n",
       "      <th>Representation</th>\n",
       "      <th>Frequency</th>\n",
       "      <th>Type of motion</th>\n",
       "      <th>Degeneracy</th>\n",
       "    </tr>\n",
       "  </thead>\n",
       "  <tbody>\n",
       "    <tr>\n",
       "      <th>0</th>\n",
       "      <td>None</td>\n",
       "      <td>0.000000</td>\n",
       "      <td>TR</td>\n",
       "      <td>6</td>\n",
       "    </tr>\n",
       "    <tr>\n",
       "      <th>1</th>\n",
       "      <td>None</td>\n",
       "      <td>0.000000</td>\n",
       "      <td>TR</td>\n",
       "      <td>6</td>\n",
       "    </tr>\n",
       "    <tr>\n",
       "      <th>2</th>\n",
       "      <td>None</td>\n",
       "      <td>0.000000</td>\n",
       "      <td>TR</td>\n",
       "      <td>6</td>\n",
       "    </tr>\n",
       "    <tr>\n",
       "      <th>3</th>\n",
       "      <td>None</td>\n",
       "      <td>0.000000</td>\n",
       "      <td>TR</td>\n",
       "      <td>6</td>\n",
       "    </tr>\n",
       "    <tr>\n",
       "      <th>4</th>\n",
       "      <td>None</td>\n",
       "      <td>0.000020</td>\n",
       "      <td>TR</td>\n",
       "      <td>6</td>\n",
       "    </tr>\n",
       "    <tr>\n",
       "      <th>5</th>\n",
       "      <td>None</td>\n",
       "      <td>0.000027</td>\n",
       "      <td>TR</td>\n",
       "      <td>6</td>\n",
       "    </tr>\n",
       "    <tr>\n",
       "      <th>6</th>\n",
       "      <td>Ap</td>\n",
       "      <td>1737.018322</td>\n",
       "      <td>V</td>\n",
       "      <td>1</td>\n",
       "    </tr>\n",
       "    <tr>\n",
       "      <th>7</th>\n",
       "      <td>Ap</td>\n",
       "      <td>3989.062961</td>\n",
       "      <td>V</td>\n",
       "      <td>1</td>\n",
       "    </tr>\n",
       "    <tr>\n",
       "      <th>8</th>\n",
       "      <td>Ap</td>\n",
       "      <td>4145.976961</td>\n",
       "      <td>V</td>\n",
       "      <td>1</td>\n",
       "    </tr>\n",
       "  </tbody>\n",
       "</table>\n",
       "</div>"
      ],
      "text/plain": [
       "  Representation    Frequency Type of motion Degeneracy\n",
       "0           None     0.000000             TR          6\n",
       "1           None     0.000000             TR          6\n",
       "2           None     0.000000             TR          6\n",
       "3           None     0.000000             TR          6\n",
       "4           None     0.000020             TR          6\n",
       "5           None     0.000027             TR          6\n",
       "6             Ap  1737.018322              V          1\n",
       "7             Ap  3989.062961              V          1\n",
       "8             Ap  4145.976961              V          1"
      ]
     },
     "execution_count": 31,
     "metadata": {},
     "output_type": "execute_result"
    }
   ],
   "source": [
    "h2o = psi4.geometry(\"\"\"\n",
    "O\n",
    "H 1 1.2\n",
    "H 1 2.2 2 104.5\n",
    "\"\"\")\n",
    "\n",
    "psi4.optimize('scf/6-31g',molecule = h2o)\n",
    "e, wfn = psi4.frequencies('scf/6-31g', molecule = h2o, return_wfn = True)\n",
    "vibinfo = wfn.frequency_analysis\n",
    "\n",
    "reps = vibinfo['gamma'].data\n",
    "freqs = np.real(vibinfo['omega'].data)\n",
    "motion = vibinfo['TRV'].data\n",
    "deg = vibinfo['degeneracy'].data\n",
    "\n",
    "pd.DataFrame(np.transpose([reps, freqs, motion, deg]), columns = [\"Representation\", \"Frequency\", \"Type of motion\", \"Degeneracy\"])"
   ]
  },
  {
   "cell_type": "markdown",
   "metadata": {},
   "source": [
    "# Visualizing surfaces and normal modes\n",
    "\n",
    "## fortecubeview\n",
    "\n",
    "Playing around here with 'fortecubeview'. Github repo is here: https://github.com/evangelistalab/fortecubeview/blob/master/examples/psi4/example.ipynb\n",
    "Talk from PsiCon2020 is here:\n",
    "https://www.youtube.com/watch?v=ItNdmODVgp0\n",
    "\n",
    "The first line below creates a bunch of cube files from a set of wave functions. `.cube` files are Gaussian style output files that records a surface on an xyz grid. It takes ages to write and then read all the cube files (that's a lot of data) so using the options to set which orbitals you want is a good idea. Getting the viewer to open takes a beat. Once it's there, you can select a surface, rotate it, and zoom it."
   ]
  },
  {
   "cell_type": "code",
   "execution_count": 6,
   "metadata": {},
   "outputs": [
    {
     "name": "stdout",
     "output_type": "stream",
     "text": [
      "initial bond length is  0.9599996178157412\n",
      "Optimizer: Optimization complete!\n",
      "The frequencies we're looking at are [1737.0839084  3988.31040596 4145.25497077]\n",
      "H-O bond length is  0.9496362492029669  Angstroms\n"
     ]
    }
   ],
   "source": [
    "h2o = psi4.geometry(\"\"\"\n",
    "O\n",
    "H 1 0.96\n",
    "H 1 0.96 2 104.5\n",
    "\"\"\")\n",
    "\n",
    "h2o_geometry = np.array(h2o.geometry()) #grab the geometry and store it\n",
    "bond_length = np.linalg.norm(h2o_geometry[1,:]-h2o_geometry[0,:])*0.529177 #calculate the distance then convert from Bohr to Angstroms\n",
    "print(\"initial bond length is \", bond_length)\n",
    "\n",
    "#set it to write the normal modes information to a data file and set the filename\n",
    "psi4.set_options({\"normal_modes_write\": True})\n",
    "psi4.set_options({\"writer_file_label\":\"water\"})\n",
    "\n",
    "#calculate the normal modes\n",
    "psi4.optimize('scf/6-31g',molecule = h2o)\n",
    "e, wfn = psi4.frequencies('scf/6-31g', molecule = h2o, return_wfn = True)\n",
    "vibinfo = wfn.frequency_analysis\n",
    "\n",
    "#some output information to make sure I haven't messed anything up\n",
    "print(\"The frequencies we're looking at are\", np.array(wfn.frequencies()))\n",
    "h2o_geometry = np.array(h2o.geometry()) #grab the geometry and store it\n",
    "bond_length = np.linalg.norm(h2o_geometry[1,:]-h2o_geometry[0,:])*0.529177 \n",
    "print(\"H-O bond length is \", bond_length, \" Angstroms\")"
   ]
  },
  {
   "cell_type": "code",
   "execution_count": 7,
   "metadata": {},
   "outputs": [
    {
     "name": "stdout",
     "output_type": "stream",
     "text": [
      "CubeViewer: listing cube files from the directory .\n",
      "Reading 22 cube files\n"
     ]
    },
    {
     "name": "stderr",
     "output_type": "stream",
     "text": [
      "/opt/conda/lib/python3.8/site-packages/fortecubeview/py3js_renderer.py:1096: FutureWarning: marching_cubes_lewiner is deprecated in favor of marching_cubes. marching_cubes_lewiner will be removed in version 0.19\n",
      "  values = skimage.measure.marching_cubes_lewiner(data, level * 0.995)\n",
      "/opt/conda/lib/python3.8/site-packages/fortecubeview/cube_file.py:213: RuntimeWarning: invalid value encountered in double_scalars\n",
      "  if partial_sum / sum < fraction:\n"
     ]
    },
    {
     "data": {
      "application/vnd.jupyter.widget-view+json": {
       "model_id": "bafe6490e5ba4a75944e1d55c66a88d1",
       "version_major": 2,
       "version_minor": 0
      },
      "text/plain": [
       "VBox(children=(HTML(value=''), Renderer(camera=OrthographicCamera(bottom=-3.0, children=(DirectionalLight(colo…"
      ]
     },
     "metadata": {},
     "output_type": "display_data"
    },
    {
     "data": {
      "application/vnd.jupyter.widget-view+json": {
       "model_id": "8bd0df412ea24ce69fa2796da95c6cc8",
       "version_major": 2,
       "version_minor": 0
      },
      "text/plain": [
       "HTML(value='\\n        <style>\\n           .jupyter-widgets-output-area .output_scroll {\\n                heigh…"
      ]
     },
     "metadata": {},
     "output_type": "display_data"
    },
    {
     "data": {
      "application/vnd.jupyter.widget-view+json": {
       "model_id": "3b72209ce76842babe2d1ab85e00eabb",
       "version_major": 2,
       "version_minor": 0
      },
      "text/plain": [
       "interactive(children=(Select(description='Cube files:', options=('Density (alpha)', 'Density (beta)', 'Density…"
      ]
     },
     "metadata": {},
     "output_type": "display_data"
    },
    {
     "data": {
      "text/plain": [
       "<fortecubeview.cube_viewer.CubeViewer at 0x7f8a44e3ca00>"
      ]
     },
     "execution_count": 7,
     "metadata": {},
     "output_type": "execute_result"
    }
   ],
   "source": [
    "psi4.set_options({\n",
    "    'CUBEPROP_TASKS': ['ORBITALS','DENSITY'],\n",
    "    'CUBEPROP_ORBITALS': [5,6],\n",
    "})\n",
    "\n",
    "psi4.cubeprop(wfn) #writes the cube files\n",
    "\n",
    "fortecubeview.plot(width=500,height=300,colorscheme='emory',sumlevel=0.75) #launches the viewer"
   ]
  },
  {
   "cell_type": "markdown",
   "metadata": {},
   "source": [
    "For reasons I don't get yet, it's adding in a number in the output file name. Look in the directory you're working it to find the file with the suffix `molden_normal_modes` and put it's name in the line below. Give it a beat to open the viewer."
   ]
  },
  {
   "cell_type": "code",
   "execution_count": 57,
   "metadata": {},
   "outputs": [
    {
     "data": {
      "application/vnd.jupyter.widget-view+json": {
       "model_id": "40efaad0139443399e4dd0c7d9fd17cc",
       "version_major": 2,
       "version_minor": 0
      },
      "text/plain": [
       "VBox(children=(HTML(value=''), Renderer(camera=OrthographicCamera(bottom=-5.0, children=(DirectionalLight(colo…"
      ]
     },
     "metadata": {},
     "output_type": "display_data"
    },
    {
     "data": {
      "application/vnd.jupyter.widget-view+json": {
       "model_id": "4c43baf8987e48be8bf0f32c5371d649",
       "version_major": 2,
       "version_minor": 0
      },
      "text/plain": [
       "HTML(value='\\n        <style>\\n           .jupyter-widgets-output-area .output_scroll {\\n                heigh…"
      ]
     },
     "metadata": {},
     "output_type": "display_data"
    },
    {
     "data": {
      "application/vnd.jupyter.widget-view+json": {
       "model_id": "9badb466a26f45c7b4e99b73914fcfe5",
       "version_major": 2,
       "version_minor": 0
      },
      "text/plain": [
       "interactive(children=(Select(description='Select:', options=('1: Normal mode (1737.1 cm^-1)', '2: Normal mode …"
      ]
     },
     "metadata": {},
     "output_type": "display_data"
    },
    {
     "data": {
      "text/plain": [
       "<fortecubeview.vib_viewer.VibViewer at 0x7fe0d89c7640>"
      ]
     },
     "execution_count": 57,
     "metadata": {},
     "output_type": "execute_result"
    }
   ],
   "source": [
    "fortecubeview.vib('water.30.molden_normal_modes')"
   ]
  },
  {
   "cell_type": "markdown",
   "metadata": {},
   "source": [
    "### now let's repeat with benzene, just to practice\n",
    "\n",
    "Also, notice how I'm pulling the geometry from pubchem :-) I'm gonna show the normal modes first, then I'm gonna spit out some cube files, read them back in, and show orbitals."
   ]
  },
  {
   "cell_type": "code",
   "execution_count": 58,
   "metadata": {
    "scrolled": true
   },
   "outputs": [
    {
     "name": "stdout",
     "output_type": "stream",
     "text": [
      "\tSearching PubChem database for benzene (single best match returned)\n",
      "\tFound 1 result(s)\n",
      "Optimizer: Optimization complete!\n",
      "Warning: used thermodynamics relations inappropriate for low-frequency modes: ['478.0865' '478.0893']\n"
     ]
    }
   ],
   "source": [
    "benzene = psi4.geometry(f\"\"\"\n",
    "pubchem:benzene\n",
    "\"\"\")\n",
    "psi4.set_options({\"normal_modes_write\": True})\n",
    "psi4.set_options({\"writer_file_label\":\"benzene\"})\n",
    "\n",
    "psi4.optimize('scf/STO-3g', molecule = benzene)\n",
    "e, wfn = psi4.frequencies('scf/STO-3g', molecule = benzene, return_wfn = True)\n",
    "\n"
   ]
  },
  {
   "cell_type": "code",
   "execution_count": 8,
   "metadata": {
    "scrolled": true
   },
   "outputs": [
    {
     "data": {
      "application/vnd.jupyter.widget-view+json": {
       "model_id": "733abfe434ee416a9589eda78ce2758a",
       "version_major": 2,
       "version_minor": 0
      },
      "text/plain": [
       "VBox(children=(HTML(value=''), Renderer(camera=OrthographicCamera(bottom=-5.0, children=(DirectionalLight(colo…"
      ]
     },
     "metadata": {},
     "output_type": "display_data"
    },
    {
     "data": {
      "application/vnd.jupyter.widget-view+json": {
       "model_id": "a2664f0dfb2848b59f2cc63625f83060",
       "version_major": 2,
       "version_minor": 0
      },
      "text/plain": [
       "HTML(value='\\n        <style>\\n           .jupyter-widgets-output-area .output_scroll {\\n                heigh…"
      ]
     },
     "metadata": {},
     "output_type": "display_data"
    },
    {
     "data": {
      "application/vnd.jupyter.widget-view+json": {
       "model_id": "c176ede564ef40f5bd02dc987f4ab82e",
       "version_major": 2,
       "version_minor": 0
      },
      "text/plain": [
       "interactive(children=(Select(description='Select:', options=('1: Normal mode (478.1 cm^-1)', '2: Normal mode (…"
      ]
     },
     "metadata": {},
     "output_type": "display_data"
    },
    {
     "data": {
      "text/plain": [
       "<fortecubeview.vib_viewer.VibViewer at 0x7f8a4b9ce460>"
      ]
     },
     "execution_count": 8,
     "metadata": {},
     "output_type": "execute_result"
    }
   ],
   "source": [
    "fortecubeview.vib('benzene.30.molden_normal_modes')"
   ]
  },
  {
   "cell_type": "code",
   "execution_count": 61,
   "metadata": {},
   "outputs": [
    {
     "name": "stdout",
     "output_type": "stream",
     "text": [
      "CubeViewer: listing cube files from the directory .\n",
      "Reading 22 cube files\n"
     ]
    },
    {
     "name": "stderr",
     "output_type": "stream",
     "text": [
      "/opt/conda/lib/python3.8/site-packages/fortecubeview/py3js_renderer.py:1096: FutureWarning: marching_cubes_lewiner is deprecated in favor of marching_cubes. marching_cubes_lewiner will be removed in version 0.19\n",
      "  values = skimage.measure.marching_cubes_lewiner(data, level * 0.995)\n",
      "/opt/conda/lib/python3.8/site-packages/fortecubeview/cube_file.py:213: RuntimeWarning: invalid value encountered in double_scalars\n",
      "  if partial_sum / sum < fraction:\n"
     ]
    },
    {
     "data": {
      "application/vnd.jupyter.widget-view+json": {
       "model_id": "c510e2936cee449999332fe4f1e2a869",
       "version_major": 2,
       "version_minor": 0
      },
      "text/plain": [
       "VBox(children=(HTML(value=''), Renderer(camera=OrthographicCamera(bottom=-3.0, children=(DirectionalLight(colo…"
      ]
     },
     "metadata": {},
     "output_type": "display_data"
    },
    {
     "data": {
      "application/vnd.jupyter.widget-view+json": {
       "model_id": "882c63506a34486c9c7985410fb597ce",
       "version_major": 2,
       "version_minor": 0
      },
      "text/plain": [
       "HTML(value='\\n        <style>\\n           .jupyter-widgets-output-area .output_scroll {\\n                heigh…"
      ]
     },
     "metadata": {},
     "output_type": "display_data"
    },
    {
     "data": {
      "application/vnd.jupyter.widget-view+json": {
       "model_id": "8aba59a3f9dd41b6969e31a2d144c7a5",
       "version_major": 2,
       "version_minor": 0
      },
      "text/plain": [
       "interactive(children=(Select(description='Cube files:', options=('Density (alpha)', 'Density (beta)', 'Density…"
      ]
     },
     "metadata": {},
     "output_type": "display_data"
    },
    {
     "data": {
      "text/plain": [
       "<fortecubeview.cube_viewer.CubeViewer at 0x7fe0d278c400>"
      ]
     },
     "execution_count": 61,
     "metadata": {},
     "output_type": "execute_result"
    }
   ],
   "source": [
    "psi4.set_options({\n",
    "    'CUBEPROP_TASKS': ['ORBITALS'],\n",
    "    'CUBEPROP_ORBITALS': [5,6,7,8,9,10,11,12,13,14,15,16,17,18,19,20],\n",
    "})\n",
    "psi4.cubeprop(wfn)\n",
    "fortecubeview.plot(width=500,height=300,colorscheme='emory',sumlevel=0.75)"
   ]
  },
  {
   "cell_type": "markdown",
   "metadata": {},
   "source": [
    "Notice that it loads ALL the cube files in the directory. Since I did some water cube files up above, those got loaded in here with benzene. It'd be smart to be aggressive with directory control when working with this."
   ]
  },
  {
   "cell_type": "markdown",
   "metadata": {},
   "source": [
    "## Using nbjsmol viewer"
   ]
  },
  {
   "cell_type": "code",
   "execution_count": 64,
   "metadata": {},
   "outputs": [
    {
     "data": {
      "text/html": [
       "\n",
       "<div id=\"jsmolapp_id223854232815927865074138803542304037041\" class=jsmolapp_div></div>\n",
       "\n",
       "<script type=\"text/javascript\" src=\"nbjsmol/jsmol/JSmol.min.js\"></script>\n",
       "\n",
       "<script type=\"text/javascript\">\n",
       "$(\"#jsmolapp_id223854232815927865074138803542304037041\").ready(function() {\n",
       "\n",
       "    Info = {\n",
       "        antialiasDisplay: true,\n",
       "        //disableJ2SLoadMonitor: true,\n",
       "        width: 500,\n",
       "        height: 500,\n",
       "        color: \"black\",\n",
       "        //addSelectionOptions: true,\n",
       "        serverURL: \"nbjsmol/jsmol/php/jsmol.php\",\n",
       "        script: \"load ipynb_jsmoldata/tmp3ck2271k.molden;\",\n",
       "        //src: \"ipynb_jsmoldata/tmp3ck2271k.molden\",\n",
       "        use: \"HTML5\",\n",
       "        j2sPath: \"nbjsmol/jsmol/j2s\",  // only used in the HTML5 modality\n",
       "        //readyFunction: null,\n",
       "        //bondWidth: 4,\n",
       "        //pinchScaling: 2.0,\n",
       "        //multipleBondSpacing: 4,\n",
       "        spin: false,\n",
       "        disableInitialConsole: true,\n",
       "        disableJ2SLoadMonitor: true,\n",
       "        debug: false\n",
       "    },\n",
       "\n",
       "  $(\"#jsmolapp_id223854232815927865074138803542304037041\").html(Jmol.getAppletHtml(\"jsmolapp_id223854232815927865074138803542304037041\", Info));\n",
       "});\n",
       "</script>\n",
       "\n",
       "<style>\n",
       "#jsmolapp_id223854232815927865074138803542304037041 {\n",
       "    width: 50%;\n",
       "    margin: 0 auto;\n",
       "}\n",
       "</style>\n"
      ],
      "text/plain": [
       "<IPython.core.display.HTML object>"
      ]
     },
     "metadata": {},
     "output_type": "display_data"
    }
   ],
   "source": [
    "from nbjsmol import nbjsmol_display\n",
    "\n",
    "psi4.molden(wfn, 'benzene.molden')\n",
    "\n",
    "nbjsmol_display('benzene.molden')"
   ]
  },
  {
   "cell_type": "markdown",
   "metadata": {},
   "source": [
    "This line outputs a Molden file: `psi4.molden(wfn,'ethane.molden')`\n",
    "These lines display the molecule: `from nbjsmol import nbjsmol_display\n",
    "nbjsmol_display ('ethane.molden')`\n",
    "Taken from Psi4Numpy experiment 03a. This viewer lets you see numerical bond lengths and angles by clicking on the atoms."
   ]
  },
  {
   "cell_type": "markdown",
   "metadata": {},
   "source": [
    "# My attempt to summarize the Psi4 workflow\n",
    "\n",
    "1. Create the geometry of your molecule. This is a string of that funny format that I'm still learning. You can save this as a string (which you can then use to iterate over several values) or you can input it directly.\n",
    "2. `moleculeName = psi4.geometry(yourGeometryStringGoesHere)` is the call for creating a molecule with a set geometry. You can access the geometry with `np.array(h2o.geometry())`\n",
    "3. To perform an energy calculation on the current geometry, the call is `outputEnergy = psi4.energy('theory/basisSet', molecule=moleculeName)`\n",
    "4. If you don't specify the molecule, it'll assume the most recent set geometry\n",
    "5. You can set the basis set (and probably lots of other options) directly: `psi4.set_options({'basis': basis_set})`\n",
    "6. To optimize the geometry, run `psi4.optimize('theory/basisSet', molecule=moleculeName)`\n",
    "7. To calculate normal modes and have the output available to explore:\n",
    "`e, wfn = psi4.frequencies('theory/basisSet', molecule=moleculeName, return_wfn = True)\n",
    "\n",
    "8. You can then shove the vibrational information into an object: `vibinfo = wfn.frequency_analysis`. This object is a dictionary described in https://psicode.org/psi4manual/master/freq.html#psi4.frequency. I found it easiest to pull out just a few dictionary items for display.\n",
    "9. You can view the molecule using nbjsmol and get calculated geometry information. It can also display surfaces.\n",
    "10. You can use fortecubeviewer to see surfaces as well as view the motions involved in normal modes."
   ]
  },
  {
   "cell_type": "markdown",
   "metadata": {},
   "source": [
    "The MolSSI Quantum Mechanics Tools tutorial is really good:\n",
    "https://education.molssi.org/qm-tools/\n",
    "I've looked through lessons 1 and 4 to put together a lot of these notes. I've skimmed 2 and 3."
   ]
  },
  {
   "cell_type": "code",
   "execution_count": null,
   "metadata": {},
   "outputs": [],
   "source": []
  }
 ],
 "metadata": {
  "kernelspec": {
   "display_name": "Python 3",
   "language": "python",
   "name": "python3"
  },
  "language_info": {
   "codemirror_mode": {
    "name": "ipython",
    "version": 3
   },
   "file_extension": ".py",
   "mimetype": "text/x-python",
   "name": "python",
   "nbconvert_exporter": "python",
   "pygments_lexer": "ipython3",
   "version": "3.8.5"
  }
 },
 "nbformat": 4,
 "nbformat_minor": 4
}
