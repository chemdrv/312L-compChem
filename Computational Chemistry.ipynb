{
 "cells": [
  {
   "cell_type": "code",
   "execution_count": 1,
   "metadata": {},
   "outputs": [],
   "source": [
    "import numpy as np\n",
    "import matplotlib.pyplot as plt"
   ]
  },
  {
   "cell_type": "markdown",
   "metadata": {},
   "source": [
    "By the end of this experiment, SWBAT...\n",
    "\n",
    "    ... justify a choice of method and basis set\n",
    "    ... perform an energy minimization in PSI4, importing the molecule from pubchem\n",
    "    ... perform a geometry optimization\n",
    "    ... generate predicted frequencies of normal modes and see the irreducible representation for each mode\n",
    "    ... collect generated data into plots that assist in justifying conclusions\n",
    "    ... use the vocabulary of computational chemistry appropriately"
   ]
  },
  {
   "cell_type": "markdown",
   "metadata": {},
   "source": [
    "### Check 302 background - what will they learn?\n",
    "Weeks 1-4\n",
    "Topic 1) Introduction to Quantum Mechanics\t\n",
    "\t\t- Failure of classical mechanics\n",
    "\t\t- Schrodinger equation\n",
    "\t\t- Eigenfunctions/eigenvalues\n",
    "Topic 2) Types of Motion (Free, Vibrational, Rotational)\n",
    "\t\t- Particle in a 1D/3D box\n",
    "\t\t- Harmonic oscillator\n",
    "\t\t- Rigid rotor\n",
    "\n",
    "Weeks 5-9\n",
    "Topic 3) Symmetry and Group Theory.  \n",
    "\t-determine point groups\n",
    "\t-reducible and irreducible representations\n",
    "\t-assignments of degrees of freedom\n",
    "Topic 4) Approximate methods I \n",
    "-Perturbation theory\n",
    "Topic 5) Time Dependent Perturbation\n",
    "\t-resonance condition, transition moments and oscillator strength\n",
    "Topic 6) Rotational and Vibrational Spectroscopy\n",
    "\t\t- Rigid rotor and pure rotational spectroscopy \n",
    "\t\t- Harmonic oscillator with vibrational/rotational spectroscopy\n",
    "- Emphasis on molecular information that is obtained from spectroscopic techniques and approximate methods (bond lengths, relative bond strengths, etc.)\n",
    "Topic 7) Electronic Transitions\n",
    "- Molecular spectroscopy, with emphasis on what we mean by a “state”\n",
    "- Radiative transitions and the Franck Condon principle.\n",
    "Weeks 10-14\t\n",
    "Topic 8) Approximate methods II\n",
    "\t\t-Variation principle\n",
    "Topic 9) Hydrogen atom and bonding models\n",
    "\t\t- Hybridization of atomic orbitals\n",
    "\t\t- Valence bond\n",
    "\t\t- Molecular orbital theory \n",
    "\t\t- Huckel theory\n",
    "Topic 10) Computational Methods\n",
    "\t\t- Molecular Mechanics\n",
    "\t\t- Semi-empirical methods\n",
    "\t\t- ab initio methods\n",
    "\n",
    "\n",
    "### Joe's recommendations for what students should learn in a computational chemistry lecture\n",
    " The first 45! minutes of the lecture is going through what they've already learned in general, organic, and inorganic to identify systems that are isolated molecules, molecules in solvents, and solids and then explicitly stating that the same types of calculations can't be used for all of the systems all of the time. At a very high level develop the ability to differentiate how each should be treated differently. Is it a solid surface in a vacuum or is it a solvated molecule in an NMR tube. Then start to go through and pick out which are easier to do from an atom-centered perspective (Gaussian basis set) versus an infinite repeat perspective (plane wave basis set), and what approximations you would use: implicit solvent, explicit solvent, joining DFT + experiment. I've found that doing that before the math part helps visual learners more, and then they have cases to refer back to when the different basis sets are introduced next. Then talk about gaussian basis sets vs. plane waves and show the equations and why you'd select them for each type of problem and which tools to use for the job. I'd give them package/software names too. The next thing I'd talk about is setting up realistic calculations: atom count, energy cutoff, sampling grid, etc. but that's best saved for the second lecture. This all stems from interactions with students and faculty who have no idea why you can't use a computer to study how giant nanotubes can fight bacteria in under 30 days. I want to mitigate those conversations. \n",
    " \n",
    " What should someone with a B.S. in Chemistry know about computational chemistry and modeling?\n",
    "\n",
    "\n",
    "Basic:\n",
    "\n",
    "Know the different functional forms of a gaussian vs plane wave\n",
    "\n",
    "Know when to use gaussian or plane wave basis sets\n",
    "\n",
    "Know the difference between isolated molecule and bulk repeat calculations\n",
    "\n",
    "\n",
    "Be able to define eigenvalues and eigenvectors\n",
    "\n",
    "Be able to relate eigenvalues to molecular orbitals and bonding/antibonding concepts\n",
    "\n",
    "Be able to perform a vibrational mode analysis, including mode symmetry assignments\n",
    "\n",
    "\n",
    "\n",
    "Be able to explain the concept of a lattice in the solid state, specifically vectors\n",
    "\n",
    "Know how the lattice vectors change for each of the 14 Bravais lattice, example here is simple cubic vs fcc vs bcc\n",
    "\n",
    "\n",
    "Advanced:\n",
    "\n",
    "Be able to explain the concept of a Brillouin zone\n",
    "\n",
    "Be able to link features in the electronic band structure to changes in surface and/or bulk atomistic structure \n",
    "\n",
    "\n",
    "\n"
   ]
  },
  {
   "cell_type": "markdown",
   "metadata": {},
   "source": [
    "# Outline of what I'd actually tell students starts here\n",
    "\n",
    "# What are electronic structure calculations\n",
    "\n",
    " - We can't solve the Schrodinger equation exactly for multi-electron species\n",
    " \n",
    "BUT\n",
    " \n",
    "  - If we know the electronics structure (where all the electrons are) we can do things like calculate spectra, look at bond lengths and geometrys, get enthalphys of reaction, even explore reaction pathways\n",
    "  \n",
    "SO we've figured out ways to do this\n",
    "\n",
    " - We have a series of approximations that guide our development\n",
    " - We can do iterative solving: guess an electron distribution, calculate effects, repeat\n",
    " - 'ab initio' means from first principles. It doesn't use experimental data\n",
    " - semi-empirical brings in data from, say, spectra, to simplify the math\n",
    "\n",
    "We're not going to worry about all the details - that's a grad level course. Or join Dr. Bennett's lab. But I want you to know enough to know where the pitfalls are. I want you to understand what types of choices need to be made in order to perform these calculations, and have an idea of how you can screw yourself up.\n",
    "\n",
    "## The choices involved in running a calculation\n",
    "\n",
    "You have to pick a method. The two major categories stem from molecular orbital theory and something called DFT, which is bonkers and no one actually understands. Within MO based methods, you can do as simple as applying the Hartree-Fock SCF algorithm with modern computers, or get more complicated. Basically, the more complicated methods take into account the interactions between electroncs more accurately.\n",
    "\n",
    "<img src = \"flowchart.png\">\n",
    "\n",
    "You also have to pick a basis set. What is a basis set? It's the orbitals you're plugging electronics into. Each one say \"the 1s orbtial is best approximated by the following linear combination of functions of radius\". Basis sets can be very simple (three Gaussians to represent each orbital) or very complicated to allow for excited states, polarization, etc.\n",
    "\n",
    "# The workflow\n",
    "\n",
    "## Traditionally\n",
    "\n",
    "You define a molecule. Usually in a text file or in an object in Python. !! This means define the atoms and give coordinates!\n",
    "\n",
    "\"First you minimize the elctronic degrees of freedom. Relax where the elctrons should be. Once that's converged, the next section is to say do we need to move the atom snow that we have htat relaxed electronic state. And might need to iterate\"\n",
    "\n",
    "You optimize the geometry. You minimize the energy. Anyway this is traditioanlly done by sending your file to a high performance computer.\n",
    "\n",
    "Then you can calculate any further molecular properties (vibrational spectra for example).\n",
    "\n",
    "You get text files back from the computer and have to figure out what to do with them. Output files are long and detailed and really useful.\n",
    "\n",
    "## Using ChemCompute to run PSI4 in a Jupyter notebook\n",
    "\n",
    "You have to work on ChemCompute's server. We'll import PSI4 into our notebooks. Then we can do the whole workflow described above right in a notebook.\n",
    "\n",
    "Note: PSI4 can run the traditional way. That's more appropriate for high level work. But the Jupyter notebook way is way easier for straightforward calculations, and for beginners. (Tag the MolSSI intro tutorial that's just how to do vim and whatnot)"
   ]
  },
  {
   "cell_type": "markdown",
   "metadata": {},
   "source": [
    "# Doing your first electronic structure calculation\n",
    "\n",
    "## Show them methane\n",
    "\n",
    "Have them calculate chloromethane on their own. Explain what all the various inputs are, and what we expect to see in the output. (It's just a number.)"
   ]
  },
  {
   "cell_type": "markdown",
   "metadata": {},
   "source": [
    "# Choosing a basis set\n",
    "\n",
    "Pick a set of basis sets. Show them a series of minimizations for methane. Have htem repeat that for chloromethane. Give a plot of energy vs basis set."
   ]
  },
  {
   "cell_type": "markdown",
   "metadata": {},
   "source": [
    "# Calculating normal modes\n",
    "\n",
    "Use methane as an example of normal mode calculations. THen have them do chloromethane. Be sure to show creating folders for cube files, and explain why."
   ]
  },
  {
   "cell_type": "markdown",
   "metadata": {},
   "source": [
    "# Some considerations and problems that might come up\n",
    "\n",
    "## Your symmetry is wrong\n",
    "\n",
    "## Your cube files are the wrong molecule"
   ]
  },
  {
   "cell_type": "markdown",
   "metadata": {},
   "source": [
    "# What you're turning in\n",
    "\n",
    "Create a new notebook in ChemCompute. Put together the following:\n",
    "\n",
    "Do I want them to explore types of theory? Might be useful to have them decide what IS the right theory for our type of molecules. Plane-wave vs Gaussian, HF, MP2, DFT.\n",
    "\n",
    "A set of basis set calculations for chloromethane. Neat plots showing minimization energy per basis set, and time per basis set. A conclusion abotu the most apporpriate basis set.\n",
    "\n",
    "Extract some parameters - a bond length, an angle, maybe plot over basis set size.\n",
    "\n",
    "Show a normal mode table for their chosen molecule. Have it set up to show a random normal mode. Discuss the type of motion observed."
   ]
  },
  {
   "cell_type": "code",
   "execution_count": null,
   "metadata": {},
   "outputs": [],
   "source": []
  }
 ],
 "metadata": {
  "kernelspec": {
   "display_name": "Python 3",
   "language": "python",
   "name": "python3"
  },
  "language_info": {
   "codemirror_mode": {
    "name": "ipython",
    "version": 3
   },
   "file_extension": ".py",
   "mimetype": "text/x-python",
   "name": "python",
   "nbconvert_exporter": "python",
   "pygments_lexer": "ipython3",
   "version": "3.8.5"
  }
 },
 "nbformat": 4,
 "nbformat_minor": 4
}
